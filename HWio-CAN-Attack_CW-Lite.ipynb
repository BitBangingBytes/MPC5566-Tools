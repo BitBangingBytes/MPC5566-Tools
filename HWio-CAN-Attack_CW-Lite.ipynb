{
 "cells": [
  {
   "cell_type": "markdown",
   "id": "a699e3d5",
   "metadata": {},
   "source": [
    "# CAN ECM Access Tool using ChipWhisperer-Lite\n",
    "The following code is used to inject a fault in an ECM using a MPC5566 processor to facilitate extraction of the firmware which includes a secret password used to access the device."
   ]
  },
  {
   "cell_type": "markdown",
   "id": "7045d475-e993-4fad-acdf-0ff92aaebbef",
   "metadata": {},
   "source": [
    "# Initialize ChipWhisperer Lite"
   ]
  },
  {
   "cell_type": "code",
   "execution_count": null,
   "id": "229a1002",
   "metadata": {
    "jupyter": {
     "source_hidden": true
    },
    "scrolled": true
   },
   "outputs": [],
   "source": [
    "PLATFORM='NOTHING'\n",
    "import chipwhisperer as cw\n",
    "scope = cw.scope()\n",
    "%run <enter full path to>/jupyter/Setup_Scripts/Setup_Generic.ipynb"
   ]
  },
  {
   "cell_type": "code",
   "execution_count": null,
   "id": "2853fccd-5d58-4a8e-85ab-1c8d1e646c5b",
   "metadata": {
    "jupyter": {
     "source_hidden": true
    }
   },
   "outputs": [],
   "source": [
    "# ** OPTIONAL ** Update Firmware\n",
    "scope.upgrade_firmware()"
   ]
  },
  {
   "cell_type": "code",
   "execution_count": null,
   "id": "de7be042",
   "metadata": {
    "jupyter": {
     "source_hidden": true
    }
   },
   "outputs": [],
   "source": [
    "# Configure ChipWhisperer\n",
    "\n",
    "scope.adc.basic_mode = \"falling_edge\"\n",
    "\n",
    "scope.clock.clkgen_src = 'system'\n",
    "scope.clock.clkgen_freq = 120e6\n",
    "scope.clock.clkgen_mul = 2\n",
    "scope.clock.clkgen_div = 1\n",
    "scope.clock.extclk_freq = 12e6\n",
    "scope.clock.adc_src = 'clkgen_x1'\n",
    "\n",
    "scope.glitch.clk_src = 'clkgen'  # Use multiplied clock speed (not synchronized to clock)\n",
    "scope.glitch.offset = 10\n",
    "scope.glitch.output = 'enable_only'  #PicoEMP\n",
    "scope.glitch.repeat = 10  # Make the pulse to the PicoEMP long enough\n",
    "scope.glitch.trigger_src = \"ext_single\"\n",
    "scope.glitch.width = 40\n",
    "scope.glitch.width_fine = 1\n",
    "\n",
    "scope.io.hs2 = \"glitch\"  # Glitch control line, connect to PicoEMP input\n",
    "scope.io.tio1 = True  # Arduino One-Shot CAN Password Message\n",
    "scope.io.tio2 = True  # Arduino One-Shot CAN Address/Size Message\n",
    "scope.io.tio3 = True  # Relay controlling power to DUT\n",
    "scope.io.tio4 = True  # Trigger input from CAN Bus converter\n",
    "scope.io.nrst = True  # Reset line to ECM\n",
    "scope.io.glitch_lp = True  # In case we want to Voltage Glitch\n",
    "scope.io.glitch_hp = True\n",
    "\n",
    "scope.trigger.triggers = \"tio4\"  # Chipwhisperer trigger input from CAN bus"
   ]
  },
  {
   "cell_type": "markdown",
   "id": "cd46d1f3-8303-4ca2-87a6-003b7a4ec081",
   "metadata": {},
   "source": [
    "---"
   ]
  },
  {
   "cell_type": "markdown",
   "id": "c92ceae4-a068-4b1a-8622-e99ca4f85315",
   "metadata": {},
   "source": [
    "# PicoEMP Voltage Interpolation\n",
    "Run this to convert voltage to PicoEMP PWM values"
   ]
  },
  {
   "cell_type": "code",
   "execution_count": null,
   "id": "fdb6b09d-da4b-45fc-848b-3efad66385b0",
   "metadata": {
    "jupyter": {
     "source_hidden": true
    }
   },
   "outputs": [],
   "source": [
    "# Interpolation code for PicoEMP\n",
    "# https://www.zovirl.com/2008/11/04/interpolated-lookup-tables-in-python/\n",
    "\n",
    "class InterpolatedArray(object):\n",
    "\n",
    "  \"\"\"An array-like object that provides\n",
    "  interpolated values between set points.\"\"\"\n",
    "\n",
    "  def __init__(self, points):\n",
    "    self.points = sorted(points)\n",
    "\n",
    "  def __getitem__(self, x):\n",
    "    if x < self.points[0][0] or x > self.points[-1][0]:\n",
    "      raise ValueError\n",
    "    lower_point, upper_point = self._GetBoundingPoints(x)\n",
    "    return self._Interpolate(x, lower_point, upper_point)\n",
    "\n",
    "  def _GetBoundingPoints(self, x):\n",
    "    \"\"\"Get the lower/upper points that bound x.\"\"\"\n",
    "    lower_point = None\n",
    "    upper_point = self.points[0]\n",
    "    for point  in self.points[1:]:\n",
    "      lower_point = upper_point\n",
    "      upper_point = point\n",
    "      if x <= upper_point[0]:\n",
    "        break\n",
    "    return lower_point, upper_point\n",
    "\n",
    "  def _Interpolate(self, x, lower_point, upper_point):\n",
    "    \"\"\"Interpolate a Y value for x given lower & upper\n",
    "    bounding points.\"\"\"\n",
    "    slope = (float(upper_point[1] - lower_point[1]) /\n",
    "             (upper_point[0] - lower_point[0]))\n",
    "    return lower_point[1] + (slope * (x - lower_point[0]))"
   ]
  },
  {
   "cell_type": "code",
   "execution_count": null,
   "id": "16af151d-d355-4c3c-b51f-72414f0be430",
   "metadata": {
    "jupyter": {
     "source_hidden": true
    }
   },
   "outputs": [],
   "source": [
    "# PicoEMP Driver Module\n",
    "import serial\n",
    "import time\n",
    "\n",
    "# Hash's measured values for power config below\n",
    "#\n",
    "# Measure your own PicoEMP by sending commands to set voltage to values in the table. \n",
    "# Note the resulting voltage and update the voltage accordingly.\n",
    "# ex. Set your PicoEMP to 50V, read the voltage it's actually at using a voltmeter.\n",
    "#     Then update the table value from 50 to 55 or whatever it is actually. \n",
    "#\n",
    "# Alternatively, just send the PWM commands and build your own table to pass to interpolator.\n",
    "#\n",
    "# 50V = 0.05, 81V = 0.045, 113V = 0.040, 149V = 0.035, 186V = 0.030, 221V = 0.025\n",
    "# 247V = 0.020, 250.7V = 0.019, 253.3V = 0.018, 254.9V = 0.017, 255.6V = 0.016\n",
    "# 254.9V = 0.015, 252.6V = 0.014, 245V = 0.0122\n",
    "\n",
    "class picoemp():\n",
    "    def __init__(self, serial_port):\n",
    "        self.ser = serial.Serial(\n",
    "            port=serial_port,\n",
    "            baudrate=115200\n",
    "        )\n",
    "        self.voltage_data = ((50, 0.05),   (81, 0.045),   (113, 0.040), \n",
    "                             (149,0.035),  (186, 0.030),  (221, 0.025), \n",
    "                             (247, 0.020), (250.7,0.019), (253.3, 0.018), \n",
    "                             (255.6, 0.016)\n",
    "                            )\n",
    "        self.pulse_power = InterpolatedArray(self.voltage_data)\n",
    "        self.ser.isOpen()\n",
    "        self.ser.write('di'.encode())  #Disable Disarming Timeout\n",
    "        self.ser.write('\\r'.encode())\n",
    "        time.sleep(0.01)\n",
    "\n",
    "    def arm(self):\n",
    "        self.ser.write('a'.encode())\n",
    "        self.ser.write('\\r'.encode())\n",
    "        time.sleep(5)  #Wait for capacitor to charge\n",
    "        \n",
    "    def disarm(self):\n",
    "        self.ser.write('d'.encode())\n",
    "        self.ser.write('\\r'.encode())\n",
    "        time.sleep(0.01)\n",
    "\n",
    "    def pulse_parameters(self, pulse_delay, pulse_duration):\n",
    "        self.ser.write('fa'.encode())\n",
    "        #self.ser.write('a'.encode())\n",
    "        self.ser.write('\\r'.encode())\n",
    "        self.ser.write(str(pulse_delay).encode())\n",
    "        self.ser.write('\\r'.encode())\n",
    "        self.ser.write(str(pulse_duration).encode())\n",
    "        self.ser.write('\\r'.encode())        \n",
    "        time.sleep(0.01)\n",
    "\n",
    "    def pulse_voltage(self, pulse_voltage):\n",
    "        self.ser.write('c'.encode())\n",
    "        self.ser.write('\\r'.encode())\n",
    "        self.ser.write('5'.encode())  #Pulse time set to 5, this isn't used so left default\n",
    "        self.ser.write('\\r'.encode())\n",
    "        self.ser.write(str(self.pulse_power[pulse_voltage]).encode())\n",
    "        self.ser.write('\\r'.encode())\n",
    "        time.sleep(0.01)\n",
    "\n",
    "    def set_trigger(self):\n",
    "        self.ser.write('f'.encode())\n",
    "        self.ser.write('\\r'.encode())\n",
    "        time.sleep(0.01)\n",
    "        \n",
    "    def close(self):\n",
    "        self.disarm()\n",
    "        self.ser.close()\n",
    "        time.sleep(0.01)\n",
    "\n",
    "emp = picoemp('/dev/ttyACM0')  # Change to match the port your PicoEMP is on\n",
    "\n",
    "emp.pulse_voltage(255)\n",
    "emp.pulse_parameters(0, 625)"
   ]
  },
  {
   "cell_type": "code",
   "execution_count": null,
   "id": "404688c5-ee1c-490c-8a05-0eaa1223ae71",
   "metadata": {
    "jupyter": {
     "source_hidden": true
    }
   },
   "outputs": [],
   "source": [
    "# DISARM PicoEMP\n",
    "scope.io.hs2 = 'clkgen'  # This sends a bunch of triggers to the digital input in case PicoEMP is waiting for a trigger\n",
    "scope.io.hs2 = 'glitch'\n",
    "print(\"Disarm EMP\")\n",
    "emp.disarm()"
   ]
  },
  {
   "cell_type": "markdown",
   "id": "2be20930-bc9b-4567-8915-04723ce1a39d",
   "metadata": {},
   "source": [
    "---"
   ]
  },
  {
   "cell_type": "markdown",
   "id": "90d807de",
   "metadata": {},
   "source": [
    "# Generate notification sound"
   ]
  },
  {
   "cell_type": "code",
   "execution_count": null,
   "id": "30261ea5",
   "metadata": {
    "jupyter": {
     "source_hidden": true
    }
   },
   "outputs": [],
   "source": [
    "# You can thank Colin for the idea to use this sound...\n",
    "#\n",
    "from IPython.display import Audio, display\n",
    "\n",
    "def finished():\n",
    "    display(Audio(url='https://sound.peal.io/ps/audios/000/000/537/original/woo_vu_luvub_dub_dub.wav', autoplay=True))\n",
    "    "
   ]
  },
  {
   "cell_type": "markdown",
   "id": "9e484202-c47a-4fa0-839f-c7666f32ffe9",
   "metadata": {},
   "source": [
    "---"
   ]
  },
  {
   "cell_type": "markdown",
   "id": "15faf52b-f5f0-413e-a2eb-ee5b4a8b12c4",
   "metadata": {},
   "source": [
    "# CAN EMP Glitch Program"
   ]
  },
  {
   "cell_type": "code",
   "execution_count": null,
   "id": "6d42ff14-62e2-40ce-aed2-3bd59e393cb3",
   "metadata": {
    "jupyter": {
     "source_hidden": true
    },
    "scrolled": true
   },
   "outputs": [],
   "source": [
    "# ** WORKING EMP Glitch ** FIRMWARE DUMPER - Load Firmware Dumper and capture dumped memory\n",
    "\n",
    "import can\n",
    "import time\n",
    "import sys\n",
    "import hexrec as hr\n",
    "\n",
    "# Make sure this value which is used in the addrSize_msg matches in the one-shot\n",
    "# Arduino CAN trigger.\n",
    "size = 0xD000  \n",
    "loader_bytes = [0] * size\n",
    "public_password_msg = can.Message(\n",
    "    arbitration_id=0x011, \n",
    "    data=[0xFE,0xED,0xFA,0xCE,0xCA,0xFE,0xBE,0xEF], \n",
    "    is_extended_id=False\n",
    ")\n",
    "addrSize_msg = can.Message(\n",
    "    arbitration_id=0x012, \n",
    "    data=[0x40, 0x00, 0x00, 0x00, 0x00, (size >> 16) & 0xFF, (size >> 8) & 0xFF, size & 0x00], \n",
    "    is_extended_id=False\n",
    ")\n",
    "# Empty CAN message set as data type\n",
    "data_msg = can.Message(\n",
    "    arbitration_id=0x013, \n",
    "    data=[0x00, 0x00, 0x00, 0x00, 0x00, 0x00, 0x00, 0x00], \n",
    "    is_extended_id=False\n",
    ")\n",
    "\n",
    "# Load file to send to processor\n",
    "# FLexCAN-Dumper_FINAL extracts the BAM, Shadow and Main flash from the MPC5566\n",
    "# and sends back over the CAN bus as messages 0x100, 0x200, 0x300. It signifies\n",
    "# the end of the data by incrementing the ID by one. 0x100 --> 0x101 etc.\n",
    "in_file = hr.load('FLexCAN-Dumper_FINAL.bin')\n",
    "data = in_file.read()\n",
    "\n",
    "# Set all bytes to 0 if not loaded via binary, this is necessary to initialize ECC\n",
    "# protected memory. If the entire memory space accessed is not initialized the \n",
    "# program will not run.\n",
    "for i in range(0, len(data)):\n",
    "    loader_bytes[i] = data[i]\n",
    "\n",
    "bus = can.Bus(interface='socketcan', channel='can0')\n",
    "\n",
    "emp_voltage = 255\n",
    "emp.pulse_voltage(255)\n",
    "scope.io.hs2 = 'clkgen'\n",
    "scope.io.hs2 = 'glitch'\n",
    "scope.io.tio3 = True  # Relay controlling board power\n",
    "\n",
    "print(\"Disarm EMP\")\n",
    "emp.disarm()\n",
    "time.sleep(5)\n",
    "\n",
    "while(True):\n",
    "    scope.glitch.repeat = 10  # Sets the pulse width used to trigger PicoEMP, not critical value\n",
    "    for emp_pulse_width in range(17, 18):\n",
    "        print(\"\\nPulse Width:\", emp_pulse_width)\n",
    "        emp.pulse_parameters(0, emp_pulse_width)\n",
    "        print(\"Charging EMP Pulse:\" , emp_voltage, \"V\")\n",
    "        emp.arm()\n",
    "        # EMP voltages to try in each iteration\n",
    "        for emp_voltage in range(60, 61, 1):\n",
    "            emp.pulse_voltage(emp_voltage) \n",
    "            print(\"\\nPulse Voltage:\", emp_voltage, \"V\")\n",
    "            # Glitch offsets to try during each loop iteration\n",
    "            for glitch_offset in range(62000, 63000, 1):\n",
    "                # Test to make sure board didn't crash\n",
    "                scope.clock.freq_ctr_src = 'extclk'  # This must be done each time for clock.freq_ctr to update\n",
    "                if(scope.clock.freq_ctr == 0):\n",
    "                    print(\"Crashed at GO:\", glitch_offset)\n",
    "                    # Power cycle board using relay controlled by tio3\n",
    "                    scope.io.tio3 = False   \n",
    "                    time.sleep(1)\n",
    "                    scope.io.tio3 = True\n",
    "                    time.sleep(0.2)\n",
    "                scope.glitch.ext_offset = glitch_offset\n",
    "                # PicoEMP configured to wait for transition on digital input which will come from chipwhisperer\n",
    "                emp.set_trigger()\n",
    "            \n",
    "                scope.io.nrst = False  # Reboot DUT\n",
    "                time.sleep(0.05)\n",
    "                scope.io.nrst = True\n",
    "                time.sleep(float(emp_pulse_width / 100))  # Sleep longer for longer pulses so PicoEMP can charge\n",
    "\n",
    "                scope.arm()\n",
    "                # Arduino send one-shot password\n",
    "                scope.io.tio1 = False\n",
    "                time.sleep(0.001)\n",
    "                scope.io.tio1 = True\n",
    "                # End one-shot password\n",
    "                data = bus.recv(0.1)  # Sinkhole Arduino one-shot transmit\n",
    "                data = bus.recv(0.1)  # Capture 001 response if we get it\n",
    "                if(data and data.arbitration_id == 0x001):\n",
    "                    bus.send(addrSize_msg, 0.1)\n",
    "                    print(\"1. Got 001 message, bus.send 002\")\n",
    "                else:\n",
    "                    # Arduino send one-shot address\n",
    "                    time.sleep(0.02)\n",
    "                    scope.io.tio2 = False\n",
    "                    time.sleep(0.001)\n",
    "                    scope.io.tio2 = True\n",
    "                    # End one-shot address\n",
    "                    data = bus.recv(0.1)  # Sinkhole Arduino one-shot transmit\n",
    "                data = bus.recv(0.1)  # Test to see if we got 002 response\n",
    "                counter = 0\n",
    "                while(data and (counter < 25)):\n",
    "                    #if (counter > 0):\n",
    "                    print(\"While Loop. GO:\", glitch_offset)\n",
    "                    print(\"Got:\", data)\n",
    "                    if(data and data.arbitration_id == 0x001):\n",
    "                        print(\"Got 001 in while loop\")\n",
    "                        break\n",
    "                    if(data and data.arbitration_id == 0x002):\n",
    "                        print(\"Got 002 in while loop\")\n",
    "                        break\n",
    "                    counter = counter + 1\n",
    "                    data = bus.recv(1)\n",
    "                if(data):\n",
    "                    if (data.arbitration_id == 0x001):\n",
    "                        print(\"2. Got 001 message, bus.send 012\")\n",
    "                        # Send 002\n",
    "                        bus.send(addrSize_msg, 1)\n",
    "                        data = bus.recv(1)\n",
    "                        print(\"2. Received from bus send 012:\", data)\n",
    "                        data = bus.recv(1)\n",
    "                    if(data):\n",
    "                        if(data.arbitration_id == 0x002):\n",
    "                            print(\"3. Got 002 message, bus.send 013\")\n",
    "                            print(\"This worked!\")\n",
    "                            data = bus.recv(0.1)\n",
    "                            # Clear any data in the receive buffer\n",
    "                            print(\"Clear Receive Buffer\")\n",
    "                            while(data):\n",
    "                                data = bus.recv(0.1)\n",
    "                                print(\"CB:\", data)\n",
    "                            # Send data to target\n",
    "                            print(\"Send Boot Loader\")\n",
    "                            for i in range(0, len(loader_bytes)):\n",
    "                                data_msg.data[i%8] = loader_bytes[i]\n",
    "                                if (i % 8 == 7):\n",
    "                                    bus.send(data_msg, 0.1)\n",
    "                                    print(\"Sent:\", data_msg.data)\n",
    "                                    time.sleep(0.001)\n",
    "                                    received = bus.recv(1)\n",
    "                                    if(received):\n",
    "                                        print(\"Received:\", received.data)\n",
    "                                    # if received.data != data_msg.data:\n",
    "                                    #     print(\"Data Mismatch\")\n",
    "                                    #     print(\"Received:\", received)\n",
    "                                    #     print(\"Sent:\", data_msg)\n",
    "                            print(\"Sent Boot Loader...\")\n",
    "                            # Capture CAN traffic sent back\n",
    "                            capture_data(0)  # See Dumped Firmware Capture Code, 0 or 1 sets CAN device used\n",
    "                            input(\"Wait for keypress\")  # Wait here to see if firmware dumper was successful\n",
    "        \n",
    "print(\"\\nFinished\")\n",
    "bus.shutdown()\n",
    "emp.disarm()\n",
    "bus.shutdown()"
   ]
  },
  {
   "cell_type": "markdown",
   "id": "aa2ee3e7-b8d4-42da-9163-baa45bc9e9a7",
   "metadata": {},
   "source": [
    "---"
   ]
  },
  {
   "cell_type": "markdown",
   "id": "e5a0dd5e-47fa-4d7f-acc6-048a4c9e5c22",
   "metadata": {},
   "source": [
    "# CAN Loader for board with known CAN Password"
   ]
  },
  {
   "cell_type": "code",
   "execution_count": null,
   "id": "4aee3795-dc1b-4c01-86a2-8ec8159796f7",
   "metadata": {
    "jupyter": {
     "source_hidden": true
    },
    "scrolled": true
   },
   "outputs": [],
   "source": [
    "# ** WORKING ** Used with Dev board with known CAN password to test MPC5566 CodeWarrior programs\n",
    "\n",
    "import can\n",
    "import time\n",
    "import sys\n",
    "import hexrec as hr\n",
    "\n",
    "# Set max data size - Revisit this if program gets bigger\n",
    "size = 0xD000\n",
    "loader_bytes = [0] * size\n",
    "\n",
    "public_password_msg = can.Message(\n",
    "    arbitration_id=0x011, \n",
    "    data=[0xFE,0xED,0xFA,0xCE,0xCA,0xFE,0xBE,0xEF], \n",
    "    is_extended_id=False\n",
    ")\n",
    "# Change to match the password for your board\n",
    "actual_password_msg = can.Message(\n",
    "    arbitration_id=0x011, \n",
    "    data=[0x01,0x02,0x03,0x04,0x05,0x06,0x07,0x08], \n",
    "    is_extended_id=False\n",
    ")\n",
    "addrSize_msg = can.Message(\n",
    "    arbitration_id=0x012, \n",
    "    data=[0x40, 0x00, 0x00, 0x00, 0x00, (size >> 16) & 0xFF, (size >> 8) & 0xFF, size & 0x00], \n",
    "    is_extended_id=False\n",
    ")\n",
    "# Empty CAN message set as data type\n",
    "data_msg = can.Message(\n",
    "    arbitration_id=0x013, \n",
    "    data=[0x00, 0x00, 0x00, 0x00, 0x00, 0x00, 0x00, 0x00], \n",
    "    is_extended_id=False\n",
    ")\n",
    "power_supply.trigger_toggle()\n",
    "time.sleep(1)\n",
    "# Load file to send to processor\n",
    "in_file = hr.load('FLexCAN-AllTestv1.bin')\n",
    "data = in_file.read()\n",
    "\n",
    "# Set all bytes to 0 if not loaded via binary\n",
    "for i in range(0, len(data)):\n",
    "    loader_bytes[i] = data[i]\n",
    "\n",
    "\n",
    "bus1 = can.Bus(interface='socketcan', channel='can1')\n",
    "\n",
    "bus1.send(actual_password_msg, 0.1)  # Sends CAN message\n",
    "data = bus1.recv(0.1)\n",
    "if(data):\n",
    "    if (data.arbitration_id == 0x001):\n",
    "        print(\"This worked!\")\n",
    "        bus1.send(addrSize_msg, 0.1)\n",
    "        data = bus1.recv(1)\n",
    "        if(data):\n",
    "            print(\"Got:\", data)\n",
    "            \n",
    "        # Sending data to target\n",
    "        print(\"Start Loop\")\n",
    "        for i in range(0, len(loader_bytes)):\n",
    "            data_msg.data[i%8] = loader_bytes[i]\n",
    "            if (i % 8 == 7):\n",
    "                bus1.send(data_msg, 0.1)\n",
    "                received = bus1.recv(1)\n",
    "                if received.data != data_msg.data:\n",
    "                    print(\"Data Mismatch\")\n",
    "                    print(\"Received:\", received)\n",
    "                    print(\"Sent:\", data_msg)\n",
    "                else:\n",
    "                    print(\"Sent Data:\", data_msg.data)\n",
    "        capture_data(1)\n",
    "        finished()\n",
    "        \n",
    "print(\"\\nFinished\")\n",
    "bus.shutdown()"
   ]
  },
  {
   "cell_type": "markdown",
   "id": "4a2f457d-2fb0-429c-b9e7-f7f92c651517",
   "metadata": {},
   "source": [
    "---"
   ]
  },
  {
   "cell_type": "markdown",
   "id": "e82d1387-0f2a-4008-9e54-b69aae6df055",
   "metadata": {},
   "source": [
    "# Dumped Firmware Capture Code"
   ]
  },
  {
   "cell_type": "code",
   "execution_count": null,
   "id": "b919dd0f-d1cf-4f36-8b65-33bc1e1f7df6",
   "metadata": {
    "jupyter": {
     "source_hidden": true
    }
   },
   "outputs": [],
   "source": [
    "# ** WORKING ** Run this prior to running CAN Dumper to load subroutines\n",
    "\n",
    "def get_data(port):\n",
    "    if(port == 0):\n",
    "        return bus.recv(1)\n",
    "    if(port == 1):\n",
    "        return bus1.recv(1)\n",
    "    \n",
    "def capture_data(port):\n",
    "    data = get_data(port)\n",
    "    if (data and data.arbitration_id == 0x100):\n",
    "        with open('<set your path here>/Flash_BAM.bin', 'wb') as f:\n",
    "            while(data.arbitration_id != 0x101):\n",
    "                # Write binary data to the file\n",
    "                f.write(data.data)\n",
    "                data = get_data(port)\n",
    "\n",
    "    data = get_data(port)\n",
    "    if (data and data.arbitration_id == 0x200):\n",
    "        with open('<set your path here>/Flash_Shadow.bin', 'wb') as f:\n",
    "            while(data.arbitration_id != 0x201):\n",
    "                # Write binary data to the file\n",
    "                f.write(data.data)\n",
    "                data = get_data(port)\n",
    "\n",
    "    data = get_data(port)\n",
    "    if (data and data.arbitration_id == 0x300):\n",
    "        with open('<set your path here>/Flash_Main.bin', 'wb') as f:\n",
    "            while(data.arbitration_id != 0x301):\n",
    "                # Write binary data to the file\n",
    "                f.write(data.data)\n",
    "                data = get_data(port)\n",
    "            "
   ]
  },
  {
   "cell_type": "markdown",
   "id": "031843c4-1a5e-4dd0-a37f-e965afea5406",
   "metadata": {},
   "source": [
    "---"
   ]
  },
  {
   "cell_type": "markdown",
   "id": "5f49726f-cd11-40ee-9155-d7c9c4596ffb",
   "metadata": {},
   "source": [
    "# Mouse Control for Remmina"
   ]
  },
  {
   "cell_type": "code",
   "execution_count": null,
   "id": "f099003b-c0c8-49e1-963c-2ec8e61cd4cf",
   "metadata": {
    "jupyter": {
     "source_hidden": true
    }
   },
   "outputs": [],
   "source": [
    "# ** WORKING ** Used to control mouse for interacting with other programs\n",
    "#               Was used to click on JTAG connect in Windows RDP session\n",
    "import pyautogui\n",
    "# Use these to determine screen size and mouse position\n",
    "print(pyautogui.size())\n",
    "print(pyautogui.position())\n",
    "# Use to perform the click\n",
    "pyautogui.click(838,1822)  "
   ]
  },
  {
   "cell_type": "markdown",
   "id": "5d140695-4fa1-4ad7-a090-1777f005eecb",
   "metadata": {},
   "source": [
    "---"
   ]
  },
  {
   "cell_type": "markdown",
   "id": "f6897a46-51fa-4b9e-a75c-b67a6f75ee0d",
   "metadata": {},
   "source": [
    "# Envox BB3 Control Code"
   ]
  },
  {
   "cell_type": "code",
   "execution_count": null,
   "id": "c6543339-6252-470f-870b-5a94bbbbae2a",
   "metadata": {
    "jupyter": {
     "source_hidden": true
    }
   },
   "outputs": [],
   "source": [
    "# ENVOX Library - LOAD THIS before use\n",
    "# -*- encoding:utf-8 -*-\n",
    "import telnetlib\n",
    "import time\n",
    "import logging\n",
    "logger = logging.getLogger(__name__)\n",
    "\n",
    "\n",
    "class EnvoxBB3:\n",
    "    def __init__(self):\n",
    "        self.refresh = True  # Flag to enable polling loop\n",
    "        self.polling = None  # Flag to show whether the power supply is being read or not\n",
    "        # self.queue = message_queue\n",
    "        self.connected = False\n",
    "        self.ipaddress = None\n",
    "        self.port = None\n",
    "        self.tn = None\n",
    "\n",
    "    def connect(self, ipaddress: str, port: str) -> (bool, str):\n",
    "        try:\n",
    "            self.ipaddress = ipaddress\n",
    "            self.port = int(port)\n",
    "            self.tn = telnetlib.Telnet(self.ipaddress, self.port, timeout=2)\n",
    "        except Exception:\n",
    "            raise\n",
    "\n",
    "        self.tn.write(b\"\\n\")\n",
    "        self.tn.read_very_eager()  # Get rid of any issues before we start\n",
    "        self.connected = True\n",
    "        return True\n",
    "\n",
    "    def disconnect(self):\n",
    "        self.connected = False\n",
    "        while self.polling:\n",
    "            time.sleep(0.1)\n",
    "        self.tn.close()\n",
    "\n",
    "    def get_settings(self, settings: dict):\n",
    "        # Load current values from power supply\n",
    "        self.refresh = False\n",
    "        while self.polling:  # Wait until refresh cycle completes\n",
    "            pass\n",
    "        self.tn.write(b\"INST CH1\\n\")\n",
    "        self.tn.write(str.encode('VOLT?\\n'))\n",
    "        settings['powersupply_ch1_volt_set'] = \\\n",
    "            float(self.tn.read_until(match=b'\\n').replace(b'\\r\\n', b'').decode(\"utf-8\"))\n",
    "        self.tn.write(str.encode('CURR?\\n'))\n",
    "        settings['powersupply_ch1_curr_set'] = \\\n",
    "            float(self.tn.read_until(match=b'\\n').replace(b'\\r\\n', b'').decode(\"utf-8\"))\n",
    "        self.tn.write(str.encode('OUTP?\\n'))\n",
    "        if (self.tn.read_until(match=b'\\n').replace(b'\\r\\n', b'')) == b'1':\n",
    "            settings['powersupply_ch1_enable'] = True\n",
    "        else:\n",
    "            settings['powersupply_ch1_enable'] = False\n",
    "        self.tn.write(b\"INST CH2\\n\")\n",
    "        self.tn.write(str.encode('VOLT?\\n'))\n",
    "        settings['powersupply_ch2_volt_set'] = \\\n",
    "            float(self.tn.read_until(match=b'\\n').replace(b'\\r\\n', b'').decode(\"utf-8\"))\n",
    "        self.tn.write(str.encode('CURR?\\n'))\n",
    "        settings['powersupply_ch2_curr_set'] = \\\n",
    "            float(self.tn.read_until(match=b'\\n').replace(b'\\r\\n', b'').decode(\"utf-8\"))\n",
    "        self.tn.write(str.encode('OUTP?\\n'))\n",
    "        if (self.tn.read_until(match=b'\\n').replace(b'\\r\\n', b'')) == b'1':\n",
    "            settings['powersupply_ch2_enable'] = True\n",
    "        else:\n",
    "            settings['powersupply_ch2_enable'] = False\n",
    "        self.refresh = True\n",
    "\n",
    "    def set_settings(self, settings: dict):\n",
    "        \"\"\" Command used to set power supply values\n",
    "\n",
    "            Voltage and current are set, outputs are enabled/disabled.\n",
    "        \"\"\"\n",
    "\n",
    "        self.refresh = False\n",
    "        while self.polling:  # Wait until refresh cycle completes\n",
    "            pass\n",
    "        # Setup channel 1\n",
    "        self.tn.write(b'INST CH1\\n')\n",
    "        if settings['powersupply_ch1_volt_set'] != '':\n",
    "            self.tn.write(str.encode('VOLT {}\\n'.format(settings['powersupply_ch1_volt_set'])))\n",
    "        if settings['powersupply_ch1_curr_set'] != '':\n",
    "            self.tn.write(str.encode('CURR {}\\n'.format(settings['powersupply_ch1_curr_set'])))\n",
    "        if settings['powersupply_ch1_enable'] is True:\n",
    "            self.tn.write(b'OUTP 1\\n')\n",
    "        elif settings['powersupply_ch1_enable'] is False:\n",
    "            self.tn.write(b'OUTP 0\\n')\n",
    "\n",
    "        # Setup channel 2\n",
    "        self.tn.write(b'INST CH2\\n')\n",
    "        if settings['powersupply_ch2_volt_set'] != '':\n",
    "            self.tn.write(str.encode('VOLT {}\\n'.format(settings['powersupply_ch2_volt_set'])))\n",
    "        if settings['powersupply_ch2_curr_set'] != '':\n",
    "            self.tn.write(str.encode('CURR {}\\n'.format(settings['powersupply_ch2_curr_set'])))\n",
    "        if settings['powersupply_ch2_enable'] is True:\n",
    "            self.tn.write(b'OUTP 1\\n')\n",
    "        elif settings['powersupply_ch2_enable'] is False:\n",
    "            self.tn.write(b'OUTP 0\\n')\n",
    "\n",
    "        self.refresh = True\n",
    "\n",
    "    def get_measurement(self, measurements: dict):\n",
    "        self.polling = True\n",
    "        self.tn.write(b\"INST CH1\\n\")\n",
    "        self.tn.write(str.encode('MEAS:VOLT?\\n'))\n",
    "        measurements['powersupply_ch1_volt_meas'] = \\\n",
    "            float(self.tn.read_until(match=b'\\n', timeout=0.5).replace(b'\\r\\n', b''))\n",
    "        self.tn.write(str.encode('MEAS:CURR?\\n'))\n",
    "        measurements['powersupply_ch1_curr_meas'] = \\\n",
    "            float(self.tn.read_until(match=b'\\n', timeout=0.5).replace(b'\\r\\n', b''))\n",
    "        self.tn.write(b\"INST CH2\\n\")\n",
    "        self.tn.write(str.encode('MEAS:VOLT?\\n'))\n",
    "        measurements['powersupply_ch2_volt_meas'] = \\\n",
    "            float(self.tn.read_until(match=b'\\n', timeout=0.5).replace(b'\\r\\n', b''))\n",
    "        self.tn.write(str.encode('MEAS:CURR?\\n'))\n",
    "        measurements['powersupply_ch2_curr_meas'] = \\\n",
    "            float(self.tn.read_until(match=b'\\n', timeout=0.5).replace(b'\\r\\n', b''))\n",
    "        self.polling = False\n",
    "\n",
    "    def config_toggle_time(self, channel: int, voltage: float, current: float, toggle_time: float):\n",
    "        \"\"\" Take the current voltage and current settings for a given channel and load into power supply toggle list\"\"\"\n",
    "        logger.info(f\"Envox BB3 config toggle time, channel = {channel}, toggle time = {toggle_time}\")\n",
    "\n",
    "        self.refresh = False\n",
    "        while self.polling:  # Wait until refresh cycle completes\n",
    "            pass\n",
    "\n",
    "        if channel == 1:\n",
    "            self.tn.write(b'INST CH1\\n')\n",
    "        elif channel == 2:\n",
    "            self.tn.write(b'INST CH2\\n')\n",
    "        else:\n",
    "            return\n",
    "\n",
    "        self.tn.write(str.encode(f\"VOLT:MODE LIST\\nLIST:VOLT 0, {voltage}\\nCURR:MODE LIST\\nLIST:CURR {current}\\n\"\n",
    "                                 f\"LIST:DWEL {toggle_time}\\nLIST:COUN 1\\nTRIG:SOUR IMM\\nTRIG:EXIT:COND LAST\\n\"))\n",
    "        self.refresh = True\n",
    "\n",
    "    def trigger_toggle(self):\n",
    "        self.refresh = False\n",
    "        while self.polling:  # Wait until refresh cycle completes\n",
    "            pass\n",
    "        self.tn.write(b'INIT\\n')\n",
    "        self.refresh = True\n",
    "\n",
    "    def set_toggle(self, channel: str):\n",
    "        \"\"\" Set which channel should toggle when a trigger is sent \"\"\"\n",
    "        self.refresh = False\n",
    "        while self.polling:  # Wait until refresh cycle completes\n",
    "            pass\n",
    "        if channel == \"1\":\n",
    "                # Enable toggle on channel 1\n",
    "                self.tn.write(b'INST CH1\\n')\n",
    "                self.tn.write(b'VOLT:MODE LIST\\nCURR:MODE LIST\\n')\n",
    "                # Disable toggle on channel 2\n",
    "                self.tn.write(b'INST CH2\\n')\n",
    "                self.tn.write(b'VOLT:MODE FIX\\nCURR:MODE FIX\\n')\n",
    "        elif channel == \"2\":\n",
    "                # Enable toggle on channel 2\n",
    "                self.tn.write(b'INST CH2\\n')\n",
    "                self.tn.write(b'VOLT:MODE LIST\\nCURR:MODE LIST\\n')\n",
    "                # Disable toggle on channel 1\n",
    "                self.tn.write(b'INST CH1\\n')\n",
    "                self.tn.write(b'VOLT:MODE FIX\\nCURR:MODE FIX\\n')\n",
    "        elif channel == \"ALL\":\n",
    "                # Enable toggle on channel 1\n",
    "                self.tn.write(b'INST CH1\\n')\n",
    "                self.tn.write(b'VOLT:MODE LIST\\nCURR:MODE LIST\\n')\n",
    "                # Enable toggle on channel 2\n",
    "                self.tn.write(b'INST CH2\\n')\n",
    "                self.tn.write(b'VOLT:MODE LIST\\nCURR:MODE LIST\\n')\n",
    "        self.refresh = True"
   ]
  },
  {
   "cell_type": "code",
   "execution_count": null,
   "id": "21f13045-084c-4869-855b-f92815834ee5",
   "metadata": {
    "jupyter": {
     "source_hidden": true
    }
   },
   "outputs": [],
   "source": [
    "# ** WORKING ** Used with Dev board to control power\n",
    "\n",
    "import sys\n",
    "print(sys.version)\n",
    "\n",
    "power_supply = EnvoxBB3()\n",
    "power_supply.connect('10.0.0.50', '5025')\n",
    "power_supply.config_toggle_time(2,12.0,2.0,0.5) # Configure (Output Number, Voltage, Current, Toggle Time)\n",
    "power_supply.set_toggle('2')  # Configure which output to toggle"
   ]
  },
  {
   "cell_type": "code",
   "execution_count": null,
   "id": "370fd53d-2f93-43e5-bdb7-27cb7223d503",
   "metadata": {
    "jupyter": {
     "source_hidden": true
    }
   },
   "outputs": [],
   "source": [
    "power_supply.trigger_toggle()  # Sending this command only will toggle the output"
   ]
  },
  {
   "cell_type": "markdown",
   "id": "75809687-900f-4a5b-b466-b389430f1cee",
   "metadata": {},
   "source": [
    "---"
   ]
  }
 ],
 "metadata": {
  "kernelspec": {
   "display_name": "Python 3 (ipykernel)",
   "language": "python",
   "name": "python3"
  },
  "language_info": {
   "codemirror_mode": {
    "name": "ipython",
    "version": 3
   },
   "file_extension": ".py",
   "mimetype": "text/x-python",
   "name": "python",
   "nbconvert_exporter": "python",
   "pygments_lexer": "ipython3",
   "version": "3.12.7"
  }
 },
 "nbformat": 4,
 "nbformat_minor": 5
}
